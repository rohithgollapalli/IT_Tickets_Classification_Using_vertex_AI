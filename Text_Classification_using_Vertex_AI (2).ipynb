{
  "nbformat": 4,
  "nbformat_minor": 0,
  "metadata": {
    "colab": {
      "provenance": [],
      "toc_visible": true
    },
    "kernelspec": {
      "name": "python3",
      "display_name": "Python 3"
    },
    "language_info": {
      "name": "python"
    }
  },
  "cells": [
    {
      "cell_type": "code",
      "source": [
        "!pip install --upgrade google-cloud-storage\n"
      ],
      "metadata": {
        "id": "K8YlNs54XX1u"
      },
      "execution_count": null,
      "outputs": []
    },
    {
      "cell_type": "markdown",
      "source": [
        "Defining Project ID from Google Cloud bucket and selecting the Region"
      ],
      "metadata": {
        "id": "VXqAit6i-NPZ"
      }
    },
    {
      "cell_type": "code",
      "source": [
        "PROJECT_ID=\"[your-project-id]\"\n",
        "REGION=\"us-central1\""
      ],
      "metadata": {
        "id": "oY9A-GPRbtUc"
      },
      "execution_count": null,
      "outputs": []
    },
    {
      "cell_type": "markdown",
      "source": [
        "Authenticating Google Cloud login and signup"
      ],
      "metadata": {
        "id": "Q9CcwPn3-ZJc"
      }
    },
    {
      "cell_type": "code",
      "source": [
        "! gcloud auth login"
      ],
      "metadata": {
        "id": "SCbV-6J3cEEF"
      },
      "execution_count": null,
      "outputs": []
    },
    {
      "cell_type": "markdown",
      "source": [
        "Configuring Google Cloud and setting project"
      ],
      "metadata": {
        "id": "GKx5e5rd-ihD"
      }
    },
    {
      "cell_type": "code",
      "source": [
        "! gcloud config set project {PROJECT_ID}"
      ],
      "metadata": {
        "colab": {
          "base_uri": "https://localhost:8080/"
        },
        "id": "pqTIEF_QsvrB",
        "outputId": "6f87b89b-50ef-4d31-9eb6-86004e6da808"
      },
      "execution_count": null,
      "outputs": [
        {
          "output_type": "stream",
          "name": "stdout",
          "text": [
            "Updated property [core/project].\n"
          ]
        }
      ]
    },
    {
      "cell_type": "markdown",
      "source": [
        "Authenticating Google colab with google cloud"
      ],
      "metadata": {
        "id": "hLC9VjhD3PEH"
      }
    },
    {
      "cell_type": "code",
      "source": [
        "from google.colab import auth\n",
        "auth.authenticate_user()\n"
      ],
      "metadata": {
        "id": "R0O0yjhbYx9V"
      },
      "execution_count": null,
      "outputs": []
    },
    {
      "cell_type": "code",
      "source": [
        "BUCKET_NAME = f\"yourbucket-{PROJECT_ID}-unique\"  # @param {type:\"string\"}\n",
        "BUCKET_URI = f\"gs://{BUCKET_NAME}\""
      ],
      "metadata": {
        "id": "Mlb_N9_We6DX"
      },
      "execution_count": null,
      "outputs": []
    },
    {
      "cell_type": "markdown",
      "source": [
        "Creating New Bucket on Google Cloud"
      ],
      "metadata": {
        "id": "uGkkSNeO-5BR"
      }
    },
    {
      "cell_type": "code",
      "source": [
        "! gsutil mb -l {REGION} {BUCKET_URI}"
      ],
      "metadata": {
        "id": "cyP8ULqXlZ_J"
      },
      "execution_count": null,
      "outputs": []
    },
    {
      "cell_type": "markdown",
      "source": [
        "Importing files form local drive eg CSV format and converting it into JSONL format and upload it to gcs bucket"
      ],
      "metadata": {
        "id": "yJ3ugt30Gsy-"
      }
    },
    {
      "cell_type": "code",
      "source": [
        "import pandas as pd\n",
        "from google.colab import files\n",
        "uploaded = files.upload()\n",
        "\n",
        "filename = next(iter(uploaded))\n",
        "df = pd.read_csv(filename)\n",
        "df.head()\n",
        "\n",
        "jsonl_str  = \"\"\n",
        "\n",
        "# Create a string for JSONL format\n",
        "for i, row in df.iterrows():\n",
        "    #print(row['Inline_text'], row['Label'])\n",
        "    desc = row['Inline_text'].replace(\"'\",'').replace('\"',\"\").replace(\"\\n\",\"\")\n",
        "    jsonl_str += '''{\"systemInstruction\": {\"role\": \"system\",\"parts\": [{\"text\": \"You are a Classifier responsible to classify into CTS,CTS Campus,Classroom Support,Print Team (External).\"}]}, \"contents\": [{\"role\": \"user\",\"parts\": [{\"text\": 'DESC'}]},{\"role\": \"model\",\"parts\": [{\"text\": 'LABEL'}]}]}'''.replace(\"DESC\", desc).replace(\"LABEL\", row['Label'])\n",
        "    jsonl_str += \"\\n\"\n",
        "\n",
        "output_path = \"new_file.jsonl\"\n",
        "with open(output_path, 'w') as file:\n",
        "    file.write(jsonl_str)\n",
        "bucket_name = BUCKET_NAME\n",
        "!gcloud storage cp {output_path} gs://{bucket_name}/"
      ],
      "metadata": {
        "colab": {
          "base_uri": "https://localhost:8080/",
          "height": 110
        },
        "id": "HVEO2OiSRNwM",
        "outputId": "c0e50e03-def5-4cbf-8509-f895dd5095e1"
      },
      "execution_count": null,
      "outputs": [
        {
          "output_type": "display_data",
          "data": {
            "text/plain": [
              "<IPython.core.display.HTML object>"
            ],
            "text/html": [
              "\n",
              "     <input type=\"file\" id=\"files-76a637f5-b259-4070-a550-4d44d25b5251\" name=\"files[]\" multiple disabled\n",
              "        style=\"border:none\" />\n",
              "     <output id=\"result-76a637f5-b259-4070-a550-4d44d25b5251\">\n",
              "      Upload widget is only available when the cell has been executed in the\n",
              "      current browser session. Please rerun this cell to enable.\n",
              "      </output>\n",
              "      <script>// Copyright 2017 Google LLC\n",
              "//\n",
              "// Licensed under the Apache License, Version 2.0 (the \"License\");\n",
              "// you may not use this file except in compliance with the License.\n",
              "// You may obtain a copy of the License at\n",
              "//\n",
              "//      http://www.apache.org/licenses/LICENSE-2.0\n",
              "//\n",
              "// Unless required by applicable law or agreed to in writing, software\n",
              "// distributed under the License is distributed on an \"AS IS\" BASIS,\n",
              "// WITHOUT WARRANTIES OR CONDITIONS OF ANY KIND, either express or implied.\n",
              "// See the License for the specific language governing permissions and\n",
              "// limitations under the License.\n",
              "\n",
              "/**\n",
              " * @fileoverview Helpers for google.colab Python module.\n",
              " */\n",
              "(function(scope) {\n",
              "function span(text, styleAttributes = {}) {\n",
              "  const element = document.createElement('span');\n",
              "  element.textContent = text;\n",
              "  for (const key of Object.keys(styleAttributes)) {\n",
              "    element.style[key] = styleAttributes[key];\n",
              "  }\n",
              "  return element;\n",
              "}\n",
              "\n",
              "// Max number of bytes which will be uploaded at a time.\n",
              "const MAX_PAYLOAD_SIZE = 100 * 1024;\n",
              "\n",
              "function _uploadFiles(inputId, outputId) {\n",
              "  const steps = uploadFilesStep(inputId, outputId);\n",
              "  const outputElement = document.getElementById(outputId);\n",
              "  // Cache steps on the outputElement to make it available for the next call\n",
              "  // to uploadFilesContinue from Python.\n",
              "  outputElement.steps = steps;\n",
              "\n",
              "  return _uploadFilesContinue(outputId);\n",
              "}\n",
              "\n",
              "// This is roughly an async generator (not supported in the browser yet),\n",
              "// where there are multiple asynchronous steps and the Python side is going\n",
              "// to poll for completion of each step.\n",
              "// This uses a Promise to block the python side on completion of each step,\n",
              "// then passes the result of the previous step as the input to the next step.\n",
              "function _uploadFilesContinue(outputId) {\n",
              "  const outputElement = document.getElementById(outputId);\n",
              "  const steps = outputElement.steps;\n",
              "\n",
              "  const next = steps.next(outputElement.lastPromiseValue);\n",
              "  return Promise.resolve(next.value.promise).then((value) => {\n",
              "    // Cache the last promise value to make it available to the next\n",
              "    // step of the generator.\n",
              "    outputElement.lastPromiseValue = value;\n",
              "    return next.value.response;\n",
              "  });\n",
              "}\n",
              "\n",
              "/**\n",
              " * Generator function which is called between each async step of the upload\n",
              " * process.\n",
              " * @param {string} inputId Element ID of the input file picker element.\n",
              " * @param {string} outputId Element ID of the output display.\n",
              " * @return {!Iterable<!Object>} Iterable of next steps.\n",
              " */\n",
              "function* uploadFilesStep(inputId, outputId) {\n",
              "  const inputElement = document.getElementById(inputId);\n",
              "  inputElement.disabled = false;\n",
              "\n",
              "  const outputElement = document.getElementById(outputId);\n",
              "  outputElement.innerHTML = '';\n",
              "\n",
              "  const pickedPromise = new Promise((resolve) => {\n",
              "    inputElement.addEventListener('change', (e) => {\n",
              "      resolve(e.target.files);\n",
              "    });\n",
              "  });\n",
              "\n",
              "  const cancel = document.createElement('button');\n",
              "  inputElement.parentElement.appendChild(cancel);\n",
              "  cancel.textContent = 'Cancel upload';\n",
              "  const cancelPromise = new Promise((resolve) => {\n",
              "    cancel.onclick = () => {\n",
              "      resolve(null);\n",
              "    };\n",
              "  });\n",
              "\n",
              "  // Wait for the user to pick the files.\n",
              "  const files = yield {\n",
              "    promise: Promise.race([pickedPromise, cancelPromise]),\n",
              "    response: {\n",
              "      action: 'starting',\n",
              "    }\n",
              "  };\n",
              "\n",
              "  cancel.remove();\n",
              "\n",
              "  // Disable the input element since further picks are not allowed.\n",
              "  inputElement.disabled = true;\n",
              "\n",
              "  if (!files) {\n",
              "    return {\n",
              "      response: {\n",
              "        action: 'complete',\n",
              "      }\n",
              "    };\n",
              "  }\n",
              "\n",
              "  for (const file of files) {\n",
              "    const li = document.createElement('li');\n",
              "    li.append(span(file.name, {fontWeight: 'bold'}));\n",
              "    li.append(span(\n",
              "        `(${file.type || 'n/a'}) - ${file.size} bytes, ` +\n",
              "        `last modified: ${\n",
              "            file.lastModifiedDate ? file.lastModifiedDate.toLocaleDateString() :\n",
              "                                    'n/a'} - `));\n",
              "    const percent = span('0% done');\n",
              "    li.appendChild(percent);\n",
              "\n",
              "    outputElement.appendChild(li);\n",
              "\n",
              "    const fileDataPromise = new Promise((resolve) => {\n",
              "      const reader = new FileReader();\n",
              "      reader.onload = (e) => {\n",
              "        resolve(e.target.result);\n",
              "      };\n",
              "      reader.readAsArrayBuffer(file);\n",
              "    });\n",
              "    // Wait for the data to be ready.\n",
              "    let fileData = yield {\n",
              "      promise: fileDataPromise,\n",
              "      response: {\n",
              "        action: 'continue',\n",
              "      }\n",
              "    };\n",
              "\n",
              "    // Use a chunked sending to avoid message size limits. See b/62115660.\n",
              "    let position = 0;\n",
              "    do {\n",
              "      const length = Math.min(fileData.byteLength - position, MAX_PAYLOAD_SIZE);\n",
              "      const chunk = new Uint8Array(fileData, position, length);\n",
              "      position += length;\n",
              "\n",
              "      const base64 = btoa(String.fromCharCode.apply(null, chunk));\n",
              "      yield {\n",
              "        response: {\n",
              "          action: 'append',\n",
              "          file: file.name,\n",
              "          data: base64,\n",
              "        },\n",
              "      };\n",
              "\n",
              "      let percentDone = fileData.byteLength === 0 ?\n",
              "          100 :\n",
              "          Math.round((position / fileData.byteLength) * 100);\n",
              "      percent.textContent = `${percentDone}% done`;\n",
              "\n",
              "    } while (position < fileData.byteLength);\n",
              "  }\n",
              "\n",
              "  // All done.\n",
              "  yield {\n",
              "    response: {\n",
              "      action: 'complete',\n",
              "    }\n",
              "  };\n",
              "}\n",
              "\n",
              "scope.google = scope.google || {};\n",
              "scope.google.colab = scope.google.colab || {};\n",
              "scope.google.colab._files = {\n",
              "  _uploadFiles,\n",
              "  _uploadFilesContinue,\n",
              "};\n",
              "})(self);\n",
              "</script> "
            ]
          },
          "metadata": {}
        },
        {
          "output_type": "stream",
          "name": "stdout",
          "text": [
            "Saving emaildescprtion.csv to emaildescprtion (2).csv\n",
            "Copying file://updated_email.jsonl to gs://yourbucket-lyrical-rampart-459603-a8-unique/updated_email.jsonl\n"
          ]
        }
      ]
    },
    {
      "cell_type": "markdown",
      "source": [
        "Fintuning AI model with JSONL file"
      ],
      "metadata": {
        "id": "3nxTANgD4OLv"
      }
    },
    {
      "cell_type": "code",
      "source": [
        "\n",
        "import time\n",
        "\n",
        "import vertexai\n",
        "from vertexai.tuning import sft\n",
        "\n",
        "\n",
        "vertexai.init(project=PROJECT_ID, location=REGION)\n",
        "jsonl_gcs_uri = f\"gs://{BUCKET_NAME}/{output_path}\"\n",
        "\n",
        "sft_tuning_job = sft.train(\n",
        "    source_model=\"gemini-2.0-flash-001\",\n",
        "    # 1.5 and 2.0 models use the same JSONL format\n",
        "    train_dataset=jsonl_gcs_uri,\n",
        ")\n",
        "\n",
        "# Polling for job completion\n",
        "while not sft_tuning_job.has_ended:\n",
        "    time.sleep(60)\n",
        "    sft_tuning_job.refresh()\n",
        "\n",
        "resource_name = sft_tuning_job.name\n",
        "tuning_job_id = resource_name.split(\"/\")[-1]\n",
        "\n",
        "print(f\"Tuning Job ID: {tuning_job_id}\")\n",
        "print(f'model name: {sft_tuning_job.tuned_model_name}')\n",
        "print(f'endpoint: {sft_tuning_job.tuned_model_endpoint_name}')\n",
        "print(f'experiment: {sft_tuning_job.experiment}')\n",
        "print(f'tuning job: {sft_tuning_job}')\n"
      ],
      "metadata": {
        "colab": {
          "base_uri": "https://localhost:8080/",
          "height": 256
        },
        "id": "fwQBwLin6t8z",
        "outputId": "bb454188-11d1-4fb4-9665-b29daf6b9bc5"
      },
      "execution_count": null,
      "outputs": [
        {
          "metadata": {
            "tags": null
          },
          "name": "stderr",
          "output_type": "stream",
          "text": [
            "INFO:vertexai.tuning._tuning:Creating SupervisedTuningJob\n",
            "INFO:vertexai.tuning._tuning:SupervisedTuningJob created. Resource name: projects/69210017139/locations/us-central1/tuningJobs/4541323476182499328\n",
            "INFO:vertexai.tuning._tuning:To use this SupervisedTuningJob in another session:\n",
            "INFO:vertexai.tuning._tuning:tuning_job = sft.SupervisedTuningJob('projects/69210017139/locations/us-central1/tuningJobs/4541323476182499328')\n",
            "INFO:vertexai.tuning._tuning:View Tuning Job:\n",
            "https://console.cloud.google.com/vertex-ai/generative/language/locations/us-central1/tuning/tuningJob/4541323476182499328?project=69210017139\n"
          ]
        },
        {
          "data": {
            "text/html": [
              "\n",
              "        \n",
              "    <link rel=\"stylesheet\" href=\"https://fonts.googleapis.com/icon?family=Material+Icons\">\n",
              "    <style>\n",
              "      .view-vertex-resource,\n",
              "      .view-vertex-resource:hover,\n",
              "      .view-vertex-resource:visited {\n",
              "        position: relative;\n",
              "        display: inline-flex;\n",
              "        flex-direction: row;\n",
              "        height: 32px;\n",
              "        padding: 0 12px;\n",
              "          margin: 4px 18px;\n",
              "        gap: 4px;\n",
              "        border-radius: 4px;\n",
              "\n",
              "        align-items: center;\n",
              "        justify-content: center;\n",
              "        background-color: rgb(255, 255, 255);\n",
              "        color: rgb(51, 103, 214);\n",
              "\n",
              "        font-family: Roboto,\"Helvetica Neue\",sans-serif;\n",
              "        font-size: 13px;\n",
              "        font-weight: 500;\n",
              "        text-transform: uppercase;\n",
              "        text-decoration: none !important;\n",
              "\n",
              "        transition: box-shadow 280ms cubic-bezier(0.4, 0, 0.2, 1) 0s;\n",
              "        box-shadow: 0px 3px 1px -2px rgba(0,0,0,0.2), 0px 2px 2px 0px rgba(0,0,0,0.14), 0px 1px 5px 0px rgba(0,0,0,0.12);\n",
              "      }\n",
              "      .view-vertex-resource:active {\n",
              "        box-shadow: 0px 5px 5px -3px rgba(0,0,0,0.2),0px 8px 10px 1px rgba(0,0,0,0.14),0px 3px 14px 2px rgba(0,0,0,0.12);\n",
              "      }\n",
              "      .view-vertex-resource:active .view-vertex-ripple::before {\n",
              "        position: absolute;\n",
              "        top: 0;\n",
              "        bottom: 0;\n",
              "        left: 0;\n",
              "        right: 0;\n",
              "        border-radius: 4px;\n",
              "        pointer-events: none;\n",
              "\n",
              "        content: '';\n",
              "        background-color: rgb(51, 103, 214);\n",
              "        opacity: 0.12;\n",
              "      }\n",
              "      .view-vertex-icon {\n",
              "        font-size: 18px;\n",
              "      }\n",
              "    </style>\n",
              "  \n",
              "        <a class=\"view-vertex-resource\" id=\"view-vertex-resource-82c044fc-421b-4c2f-9ec4-eaade5f7d2fe\" href=\"#view-view-vertex-resource-82c044fc-421b-4c2f-9ec4-eaade5f7d2fe\">\n",
              "          <span class=\"material-icons view-vertex-icon\">tune</span>\n",
              "          <span>View Tuning Job</span>\n",
              "        </a>\n",
              "        \n",
              "        <script>\n",
              "          (function () {\n",
              "            const link = document.getElementById('view-vertex-resource-82c044fc-421b-4c2f-9ec4-eaade5f7d2fe');\n",
              "            link.addEventListener('click', (e) => {\n",
              "              if (window.google?.colab?.openUrl) {\n",
              "                window.google.colab.openUrl('https://console.cloud.google.com/vertex-ai/generative/language/locations/us-central1/tuning/tuningJob/4541323476182499328?project=69210017139');\n",
              "              } else {\n",
              "                window.open('https://console.cloud.google.com/vertex-ai/generative/language/locations/us-central1/tuning/tuningJob/4541323476182499328?project=69210017139', '_blank');\n",
              "              }\n",
              "              e.stopPropagation();\n",
              "              e.preventDefault();\n",
              "            });\n",
              "          })();\n",
              "        </script>\n",
              "    "
            ],
            "text/plain": [
              "<IPython.core.display.HTML object>"
            ]
          },
          "metadata": {},
          "output_type": "display_data"
        },
        {
          "data": {
            "text/html": [
              "\n",
              "        \n",
              "    <link rel=\"stylesheet\" href=\"https://fonts.googleapis.com/icon?family=Material+Icons\">\n",
              "    <style>\n",
              "      .view-vertex-resource,\n",
              "      .view-vertex-resource:hover,\n",
              "      .view-vertex-resource:visited {\n",
              "        position: relative;\n",
              "        display: inline-flex;\n",
              "        flex-direction: row;\n",
              "        height: 32px;\n",
              "        padding: 0 12px;\n",
              "          margin: 4px 18px;\n",
              "        gap: 4px;\n",
              "        border-radius: 4px;\n",
              "\n",
              "        align-items: center;\n",
              "        justify-content: center;\n",
              "        background-color: rgb(255, 255, 255);\n",
              "        color: rgb(51, 103, 214);\n",
              "\n",
              "        font-family: Roboto,\"Helvetica Neue\",sans-serif;\n",
              "        font-size: 13px;\n",
              "        font-weight: 500;\n",
              "        text-transform: uppercase;\n",
              "        text-decoration: none !important;\n",
              "\n",
              "        transition: box-shadow 280ms cubic-bezier(0.4, 0, 0.2, 1) 0s;\n",
              "        box-shadow: 0px 3px 1px -2px rgba(0,0,0,0.2), 0px 2px 2px 0px rgba(0,0,0,0.14), 0px 1px 5px 0px rgba(0,0,0,0.12);\n",
              "      }\n",
              "      .view-vertex-resource:active {\n",
              "        box-shadow: 0px 5px 5px -3px rgba(0,0,0,0.2),0px 8px 10px 1px rgba(0,0,0,0.14),0px 3px 14px 2px rgba(0,0,0,0.12);\n",
              "      }\n",
              "      .view-vertex-resource:active .view-vertex-ripple::before {\n",
              "        position: absolute;\n",
              "        top: 0;\n",
              "        bottom: 0;\n",
              "        left: 0;\n",
              "        right: 0;\n",
              "        border-radius: 4px;\n",
              "        pointer-events: none;\n",
              "\n",
              "        content: '';\n",
              "        background-color: rgb(51, 103, 214);\n",
              "        opacity: 0.12;\n",
              "      }\n",
              "      .view-vertex-icon {\n",
              "        font-size: 18px;\n",
              "      }\n",
              "    </style>\n",
              "  \n",
              "        <a class=\"view-vertex-resource\" id=\"view-vertex-resource-c3e59768-2036-4367-99c4-3945381a6517\" href=\"#view-view-vertex-resource-c3e59768-2036-4367-99c4-3945381a6517\">\n",
              "          <span class=\"material-icons view-vertex-icon\">science</span>\n",
              "          <span>View Experiment</span>\n",
              "        </a>\n",
              "        \n",
              "        <script>\n",
              "          (function () {\n",
              "            const link = document.getElementById('view-vertex-resource-c3e59768-2036-4367-99c4-3945381a6517');\n",
              "            link.addEventListener('click', (e) => {\n",
              "              if (window.google?.colab?.openUrl) {\n",
              "                window.google.colab.openUrl('https://console.cloud.google.com/vertex-ai/experiments/locations/us-central1/experiments/tuning-experiment-20250516201216348432/runs?project=lyrical-rampart-459603-a8');\n",
              "              } else {\n",
              "                window.open('https://console.cloud.google.com/vertex-ai/experiments/locations/us-central1/experiments/tuning-experiment-20250516201216348432/runs?project=lyrical-rampart-459603-a8', '_blank');\n",
              "              }\n",
              "              e.stopPropagation();\n",
              "              e.preventDefault();\n",
              "            });\n",
              "          })();\n",
              "        </script>\n",
              "    "
            ],
            "text/plain": [
              "<IPython.core.display.HTML object>"
            ]
          },
          "metadata": {},
          "output_type": "display_data"
        },
        {
          "output_type": "stream",
          "name": "stdout",
          "text": [
            "tuning job: <vertexai.tuning._supervised_tuning.SupervisedTuningJob object at 0x7a7d43546390> \n",
            "resource name: projects/69210017139/locations/us-central1/tuningJobs/4541323476182499328\n"
          ]
        }
      ]
    },
    {
      "cell_type": "markdown",
      "source": [
        "View a list of tuning jobs"
      ],
      "metadata": {
        "id": "9yzZuBgQ4hCG"
      }
    },
    {
      "cell_type": "code",
      "source": [
        "import vertexai\n",
        "from vertexai.tuning import sft\n",
        "\n",
        "\n",
        "vertexai.init(project=PROJECT_ID, location=REGION)\n",
        "\n",
        "responses = sft.SupervisedTuningJob.list()\n",
        "\n",
        "for response in responses:\n",
        "    print(response)\n"
      ],
      "metadata": {
        "colab": {
          "base_uri": "https://localhost:8080/"
        },
        "id": "xrAr693evRzw",
        "outputId": "e898893c-5ba5-4b62-829b-ca521c0fb758"
      },
      "execution_count": null,
      "outputs": [
        {
          "output_type": "stream",
          "name": "stdout",
          "text": [
            "<vertexai.tuning._supervised_tuning.SupervisedTuningJob object at 0x7b29ed2bef90> \n",
            "resource name: projects/69210017139/locations/us-central1/tuningJobs/3231630305152466944\n",
            "<vertexai.tuning._supervised_tuning.SupervisedTuningJob object at 0x7b29e5aad1d0> \n",
            "resource name: projects/69210017139/locations/us-central1/tuningJobs/7223697540862967808\n",
            "<vertexai.tuning._supervised_tuning.SupervisedTuningJob object at 0x7b29e5aaf750> \n",
            "resource name: projects/69210017139/locations/us-central1/tuningJobs/6083723885184811008\n",
            "<vertexai.tuning._supervised_tuning.SupervisedTuningJob object at 0x7b29e5aaf910> \n",
            "resource name: projects/69210017139/locations/us-central1/tuningJobs/7989731689981018112\n",
            "<vertexai.tuning._supervised_tuning.SupervisedTuningJob object at 0x7b29e5aacc50> \n",
            "resource name: projects/69210017139/locations/us-central1/tuningJobs/975885443746758656\n"
          ]
        }
      ]
    },
    {
      "cell_type": "markdown",
      "source": [
        "Get details of a tuning job"
      ],
      "metadata": {
        "id": "IXdAkStn4pix"
      }
    },
    {
      "cell_type": "code",
      "source": [
        "import vertexai\n",
        "from vertexai.tuning import sft\n",
        "\n",
        "\n",
        "vertexai.init(project=PROJECT_ID, location=REGION)\n",
        "\n",
        "\n",
        "response = sft.SupervisedTuningJob(f\"projects/{PROJECT_ID}/locations/{REGION}/tuningJobs/{tuning_job_id}\")\n",
        "\n",
        "print(response)\n",
        "# Example response:\n",
        "# <vertexai.tuning._supervised_tuning.SupervisedTuningJob object at 0x7cc4bb20baf0>\n",
        "# resource name: projects/1234567890/locations/us-central1/tuningJobs/4982013113894174720"
      ],
      "metadata": {
        "colab": {
          "base_uri": "https://localhost:8080/",
          "height": 112
        },
        "id": "ydVoFOP_RuCJ",
        "outputId": "88898e15-5f00-4e0b-bedc-2337c1ef2769"
      },
      "execution_count": null,
      "outputs": [
        {
          "output_type": "display_data",
          "data": {
            "text/plain": [
              "<IPython.core.display.HTML object>"
            ],
            "text/html": [
              "\n",
              "        \n",
              "    <link rel=\"stylesheet\" href=\"https://fonts.googleapis.com/icon?family=Material+Icons\">\n",
              "    <style>\n",
              "      .view-vertex-resource,\n",
              "      .view-vertex-resource:hover,\n",
              "      .view-vertex-resource:visited {\n",
              "        position: relative;\n",
              "        display: inline-flex;\n",
              "        flex-direction: row;\n",
              "        height: 32px;\n",
              "        padding: 0 12px;\n",
              "          margin: 4px 18px;\n",
              "        gap: 4px;\n",
              "        border-radius: 4px;\n",
              "\n",
              "        align-items: center;\n",
              "        justify-content: center;\n",
              "        background-color: rgb(255, 255, 255);\n",
              "        color: rgb(51, 103, 214);\n",
              "\n",
              "        font-family: Roboto,\"Helvetica Neue\",sans-serif;\n",
              "        font-size: 13px;\n",
              "        font-weight: 500;\n",
              "        text-transform: uppercase;\n",
              "        text-decoration: none !important;\n",
              "\n",
              "        transition: box-shadow 280ms cubic-bezier(0.4, 0, 0.2, 1) 0s;\n",
              "        box-shadow: 0px 3px 1px -2px rgba(0,0,0,0.2), 0px 2px 2px 0px rgba(0,0,0,0.14), 0px 1px 5px 0px rgba(0,0,0,0.12);\n",
              "      }\n",
              "      .view-vertex-resource:active {\n",
              "        box-shadow: 0px 5px 5px -3px rgba(0,0,0,0.2),0px 8px 10px 1px rgba(0,0,0,0.14),0px 3px 14px 2px rgba(0,0,0,0.12);\n",
              "      }\n",
              "      .view-vertex-resource:active .view-vertex-ripple::before {\n",
              "        position: absolute;\n",
              "        top: 0;\n",
              "        bottom: 0;\n",
              "        left: 0;\n",
              "        right: 0;\n",
              "        border-radius: 4px;\n",
              "        pointer-events: none;\n",
              "\n",
              "        content: '';\n",
              "        background-color: rgb(51, 103, 214);\n",
              "        opacity: 0.12;\n",
              "      }\n",
              "      .view-vertex-icon {\n",
              "        font-size: 18px;\n",
              "      }\n",
              "    </style>\n",
              "  \n",
              "        <a class=\"view-vertex-resource\" id=\"view-vertex-resource-5aee17b7-c38d-4ed4-8408-630b8ddb30bf\" href=\"#view-view-vertex-resource-5aee17b7-c38d-4ed4-8408-630b8ddb30bf\">\n",
              "          <span class=\"material-icons view-vertex-icon\">tune</span>\n",
              "          <span>View Tuning Job</span>\n",
              "        </a>\n",
              "        \n",
              "        <script>\n",
              "          (function () {\n",
              "            const link = document.getElementById('view-vertex-resource-5aee17b7-c38d-4ed4-8408-630b8ddb30bf');\n",
              "            link.addEventListener('click', (e) => {\n",
              "              if (window.google?.colab?.openUrl) {\n",
              "                window.google.colab.openUrl('https://console.cloud.google.com/vertex-ai/generative/language/locations/us-central1/tuning/tuningJob/4541323476182499328?project=69210017139');\n",
              "              } else {\n",
              "                window.open('https://console.cloud.google.com/vertex-ai/generative/language/locations/us-central1/tuning/tuningJob/4541323476182499328?project=69210017139', '_blank');\n",
              "              }\n",
              "              e.stopPropagation();\n",
              "              e.preventDefault();\n",
              "            });\n",
              "          })();\n",
              "        </script>\n",
              "    "
            ]
          },
          "metadata": {}
        },
        {
          "output_type": "stream",
          "name": "stdout",
          "text": [
            "<vertexai.tuning._supervised_tuning.SupervisedTuningJob object at 0x7a7d40c00810> \n",
            "resource name: projects/69210017139/locations/us-central1/tuningJobs/4541323476182499328\n"
          ]
        }
      ]
    },
    {
      "cell_type": "markdown",
      "source": [
        "Testing AI model with Prompts"
      ],
      "metadata": {
        "id": "hQClEDRk41Ys"
      }
    },
    {
      "cell_type": "code",
      "source": [
        "from vertexai.generative_models import GenerativeModel\n",
        "\n",
        "sft_tuning_job = sft.SupervisedTuningJob(f\"projects/{PROJECT_ID}/locations/{REGION}/tuningJobs/{tuning_job_id}\")\n",
        "tuned_model = GenerativeModel(sft_tuning_job.tuned_model_endpoint_name)\n",
        "\n",
        "content = '''\n",
        "{\n",
        "  \"systemInstruction\": {\n",
        "    \"role\": \"system\",\n",
        "    \"parts\": [\n",
        "        {\n",
        "            \"text\": \"You are a Classifier responsible to classify into CTS,CTS Campus,Classroom Support,Print Team (External).\"\n",
        "        }\n",
        "    ]\n",
        "  },\n",
        "  {\n",
        "    \"contents\": [\n",
        "        {\n",
        "            \"role\": \"USER\",\n",
        "            \"parts\": {\n",
        "                \"text\" : \"Projector in mcnair is not working.\"\n",
        "            },\n",
        "  {\n",
        "    \"contents\": [\n",
        "        {\n",
        "            \"role\": \"USER\",\n",
        "            \"parts\": {\n",
        "                \"text\" : \"\"\n",
        "            }\n",
        "        },\n",
        "    ],\n",
        "    \"generation_config\": {\n",
        "        \"temperature\":0.2\n",
        "    }\n",
        "}\n",
        "'''\n",
        "\n",
        "print(tuned_model.generate_content(content))"
      ],
      "metadata": {
        "colab": {
          "base_uri": "https://localhost:8080/",
          "height": 560
        },
        "id": "fDUfPlYY7LKh",
        "outputId": "9969cd53-95ee-4314-c5a6-f01a1dd90afb"
      },
      "execution_count": null,
      "outputs": [
        {
          "output_type": "display_data",
          "data": {
            "text/plain": [
              "<IPython.core.display.HTML object>"
            ],
            "text/html": [
              "\n",
              "        \n",
              "    <link rel=\"stylesheet\" href=\"https://fonts.googleapis.com/icon?family=Material+Icons\">\n",
              "    <style>\n",
              "      .view-vertex-resource,\n",
              "      .view-vertex-resource:hover,\n",
              "      .view-vertex-resource:visited {\n",
              "        position: relative;\n",
              "        display: inline-flex;\n",
              "        flex-direction: row;\n",
              "        height: 32px;\n",
              "        padding: 0 12px;\n",
              "          margin: 4px 18px;\n",
              "        gap: 4px;\n",
              "        border-radius: 4px;\n",
              "\n",
              "        align-items: center;\n",
              "        justify-content: center;\n",
              "        background-color: rgb(255, 255, 255);\n",
              "        color: rgb(51, 103, 214);\n",
              "\n",
              "        font-family: Roboto,\"Helvetica Neue\",sans-serif;\n",
              "        font-size: 13px;\n",
              "        font-weight: 500;\n",
              "        text-transform: uppercase;\n",
              "        text-decoration: none !important;\n",
              "\n",
              "        transition: box-shadow 280ms cubic-bezier(0.4, 0, 0.2, 1) 0s;\n",
              "        box-shadow: 0px 3px 1px -2px rgba(0,0,0,0.2), 0px 2px 2px 0px rgba(0,0,0,0.14), 0px 1px 5px 0px rgba(0,0,0,0.12);\n",
              "      }\n",
              "      .view-vertex-resource:active {\n",
              "        box-shadow: 0px 5px 5px -3px rgba(0,0,0,0.2),0px 8px 10px 1px rgba(0,0,0,0.14),0px 3px 14px 2px rgba(0,0,0,0.12);\n",
              "      }\n",
              "      .view-vertex-resource:active .view-vertex-ripple::before {\n",
              "        position: absolute;\n",
              "        top: 0;\n",
              "        bottom: 0;\n",
              "        left: 0;\n",
              "        right: 0;\n",
              "        border-radius: 4px;\n",
              "        pointer-events: none;\n",
              "\n",
              "        content: '';\n",
              "        background-color: rgb(51, 103, 214);\n",
              "        opacity: 0.12;\n",
              "      }\n",
              "      .view-vertex-icon {\n",
              "        font-size: 18px;\n",
              "      }\n",
              "    </style>\n",
              "  \n",
              "        <a class=\"view-vertex-resource\" id=\"view-vertex-resource-69530c80-aded-4072-a1d7-0163350d67d2\" href=\"#view-view-vertex-resource-69530c80-aded-4072-a1d7-0163350d67d2\">\n",
              "          <span class=\"material-icons view-vertex-icon\">tune</span>\n",
              "          <span>View Tuning Job</span>\n",
              "        </a>\n",
              "        \n",
              "        <script>\n",
              "          (function () {\n",
              "            const link = document.getElementById('view-vertex-resource-69530c80-aded-4072-a1d7-0163350d67d2');\n",
              "            link.addEventListener('click', (e) => {\n",
              "              if (window.google?.colab?.openUrl) {\n",
              "                window.google.colab.openUrl('https://console.cloud.google.com/vertex-ai/generative/language/locations/us-central1/tuning/tuningJob/7223697540862967808?project=69210017139');\n",
              "              } else {\n",
              "                window.open('https://console.cloud.google.com/vertex-ai/generative/language/locations/us-central1/tuning/tuningJob/7223697540862967808?project=69210017139', '_blank');\n",
              "              }\n",
              "              e.stopPropagation();\n",
              "              e.preventDefault();\n",
              "            });\n",
              "          })();\n",
              "        </script>\n",
              "    "
            ]
          },
          "metadata": {}
        },
        {
          "output_type": "stream",
          "name": "stdout",
          "text": [
            "candidates {\n",
            "  content {\n",
            "    role: \"model\"\n",
            "    parts {\n",
            "      text: \"Classroom Support\"\n",
            "    }\n",
            "  }\n",
            "  finish_reason: STOP\n",
            "  avg_logprobs: -1.0105397701263428\n",
            "}\n",
            "usage_metadata {\n",
            "  prompt_token_count: 172\n",
            "  candidates_token_count: 2\n",
            "  total_token_count: 174\n",
            "  prompt_tokens_details {\n",
            "    modality: TEXT\n",
            "    token_count: 172\n",
            "  }\n",
            "  candidates_tokens_details {\n",
            "    modality: TEXT\n",
            "    token_count: 2\n",
            "  }\n",
            "}\n",
            "create_time {\n",
            "  seconds: 1747182116\n",
            "  nanos: 105198000\n",
            "}\n",
            "response_id: \"JOIjaO61Br6o1dkPioDXiAM\"\n",
            "\n"
          ]
        }
      ]
    }
  ]
}