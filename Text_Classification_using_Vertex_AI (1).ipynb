{
  "nbformat": 4,
  "nbformat_minor": 0,
  "metadata": {
    "colab": {
      "provenance": [],
      "toc_visible": true
    },
    "kernelspec": {
      "name": "python3",
      "display_name": "Python 3"
    },
    "language_info": {
      "name": "python"
    }
  },
  "cells": [
    {
      "cell_type": "code",
      "source": [
        "!pip install --upgrade google-cloud-storage\n"
      ],
      "metadata": {
        "id": "RLcq7Np8JCW0"
      },
      "execution_count": null,
      "outputs": []
    },
    {
      "cell_type": "markdown",
      "source": [
        "Defining Project ID from Google Cloud project id and selecting the Region"
      ],
      "metadata": {
        "id": "VXqAit6i-NPZ"
      }
    },
    {
      "cell_type": "code",
      "source": [
        "PROJECT_ID=\"[your project ID]\"\n",
        "REGION=\"us-central1\""
      ],
      "metadata": {
        "id": "oY9A-GPRbtUc"
      },
      "execution_count": null,
      "outputs": []
    },
    {
      "cell_type": "markdown",
      "source": [
        "Authenticating Google Cloud login and signup"
      ],
      "metadata": {
        "id": "Q9CcwPn3-ZJc"
      }
    },
    {
      "cell_type": "code",
      "source": [
        "! gcloud auth login"
      ],
      "metadata": {
        "id": "SCbV-6J3cEEF"
      },
      "execution_count": null,
      "outputs": []
    },
    {
      "cell_type": "markdown",
      "source": [
        "Configuring Google Cloud and setting project"
      ],
      "metadata": {
        "id": "GKx5e5rd-ihD"
      }
    },
    {
      "cell_type": "code",
      "source": [
        "! gcloud config set project \"[your project ID]\""
      ],
      "metadata": {
        "id": "pqTIEF_QsvrB"
      },
      "execution_count": null,
      "outputs": []
    },
    {
      "cell_type": "markdown",
      "source": [
        "Authenticating Google colab with google cloud"
      ],
      "metadata": {
        "id": "hLC9VjhD3PEH"
      }
    },
    {
      "cell_type": "code",
      "source": [
        "from google.colab import auth\n",
        "auth.authenticate_user()\n"
      ],
      "metadata": {
        "id": "R0O0yjhbYx9V"
      },
      "execution_count": null,
      "outputs": []
    },
    {
      "cell_type": "markdown",
      "source": [
        "Creating New Bucket on Google Cloud"
      ],
      "metadata": {
        "id": "uGkkSNeO-5BR"
      }
    },
    {
      "cell_type": "code",
      "source": [
        "! gsutil mb -l {REGION} {BUCKET_URI}"
      ],
      "metadata": {
        "id": "cyP8ULqXlZ_J"
      },
      "execution_count": null,
      "outputs": []
    },
    {
      "cell_type": "markdown",
      "source": [
        "For Exisiting Google cloud Bucket"
      ],
      "metadata": {
        "id": "t4oFBKWQV96j"
      }
    },
    {
      "cell_type": "code",
      "source": [
        "#BUCKET_URI = f\"gs://your-bucket-name-{PROJECT_ID}-unique\""
      ],
      "metadata": {
        "id": "Mlb_N9_We6DX"
      },
      "execution_count": null,
      "outputs": []
    },
    {
      "cell_type": "markdown",
      "source": [
        "Importing files form local drive eg CSV format and converting it into JSONL format and upload it to gcs bucket"
      ],
      "metadata": {
        "id": "yJ3ugt30Gsy-"
      }
    },
    {
      "cell_type": "code",
      "source": [
        "import pandas as pd\n",
        "from google.colab import files\n",
        "uploaded = files.upload()\n",
        "\n",
        "filename = next(iter(uploaded))\n",
        "df = pd.read_csv(filename)\n",
        "df.head()\n",
        "\n",
        "jsonl_str  = \"\"\n",
        "\n",
        "# Create a string for JSONL format\n",
        "for i, row in df.iterrows():\n",
        "    #print(row['Inline_text'], row['Label'])\n",
        "    desc = row['Inline_text'].replace(\"'\",'').replace('\"',\"\").replace(\"\\n\",\"\")\n",
        "    jsonl_str += '''{\"systemInstruction\": {\"role\": \"system\",\"parts\": [{\"text\": \"You are a Classifier responsible to classify into CTS,CTS Campus,Classroom Support,Print Team (External).\"}]}, \"contents\": [{\"role\": \"user\",\"parts\": [{\"text\": 'DESC'}]},{\"role\": \"model\",\"parts\": [{\"text\": 'LABEL'}]}]}'''.replace(\"DESC\", desc).replace(\"LABEL\", row['Label'])\n",
        "    jsonl_str += \"\\n\"\n",
        "\n",
        "output_path = \"sample_data/updated_email.jsonl\"\n",
        "with open(output_path, 'w') as file:\n",
        "    file.write(jsonl_str)\n",
        "bucket_name = \"[your Bucket name]\"# paste here\n",
        "!gcloud storage cp {output_path} gs://{bucket_name}/"
      ],
      "metadata": {
        "id": "HVEO2OiSRNwM"
      },
      "execution_count": null,
      "outputs": []
    },
    {
      "cell_type": "markdown",
      "source": [
        "Fintuning AI model with JSONL file"
      ],
      "metadata": {
        "id": "3nxTANgD4OLv"
      }
    },
    {
      "cell_type": "code",
      "source": [
        "\n",
        "import time\n",
        "\n",
        "import vertexai\n",
        "from vertexai.tuning import sft\n",
        "\n",
        "vertexai.init(project=PROJECT_ID, location=\"us-central1\")\n",
        "\n",
        "sft_tuning_job = sft.train(\n",
        "    source_model=\"gemini-2.0-flash-001\",\n",
        "    # 1.5 and 2.0 models use the same JSONL format\n",
        "    train_dataset=\"your Bucket name\"#Paste here,\n",
        ")\n",
        "\n",
        "# Polling for job completion\n",
        "while not sft_tuning_job.has_ended:\n",
        "    time.sleep(60)\n",
        "    sft_tuning_job.refresh()\n",
        "\n",
        "print(f'model name: {sft_tuning_job.tuned_model_name}')\n",
        "print(f'endpoint: {sft_tuning_job.tuned_model_endpoint_name}')\n",
        "print(f'experiment: {sft_tuning_job.experiment}')\n",
        "print(f'tuning job: {sft_tuning_job}')\n",
        "# Example response:\n",
        "# projects/123456789012/locations/us-central1/models/1234567890@1\n",
        "# projects/123456789012/locations/us-central1/endpoints/123456789012345\n",
        "# <google.cloud.aiplatform.metadata.experiment_resources.Experiment object at 0x7b5b4ae07af0>"
      ],
      "metadata": {
        "colab": {
          "base_uri": "https://localhost:8080/",
          "height": 308
        },
        "id": "fwQBwLin6t8z",
        "outputId": "f3e2564a-3a87-46c5-b7af-d1f5e7620519"
      },
      "execution_count": null,
      "outputs": [
        {
          "output_type": "stream",
          "name": "stderr",
          "text": [
            "INFO:vertexai.tuning._tuning:Creating SupervisedTuningJob\n",
            "INFO:vertexai.tuning._tuning:SupervisedTuningJob created. Resource name: projects/69210017139/locations/us-central1/tuningJobs/3231630305152466944\n",
            "INFO:vertexai.tuning._tuning:To use this SupervisedTuningJob in another session:\n",
            "INFO:vertexai.tuning._tuning:tuning_job = sft.SupervisedTuningJob('projects/69210017139/locations/us-central1/tuningJobs/3231630305152466944')\n",
            "INFO:vertexai.tuning._tuning:View Tuning Job:\n",
            "https://console.cloud.google.com/vertex-ai/generative/language/locations/us-central1/tuning/tuningJob/3231630305152466944?project=69210017139\n"
          ]
        },
        {
          "output_type": "display_data",
          "data": {
            "text/plain": [
              "<IPython.core.display.HTML object>"
            ],
            "text/html": [
              "\n",
              "        \n",
              "    <link rel=\"stylesheet\" href=\"https://fonts.googleapis.com/icon?family=Material+Icons\">\n",
              "    <style>\n",
              "      .view-vertex-resource,\n",
              "      .view-vertex-resource:hover,\n",
              "      .view-vertex-resource:visited {\n",
              "        position: relative;\n",
              "        display: inline-flex;\n",
              "        flex-direction: row;\n",
              "        height: 32px;\n",
              "        padding: 0 12px;\n",
              "          margin: 4px 18px;\n",
              "        gap: 4px;\n",
              "        border-radius: 4px;\n",
              "\n",
              "        align-items: center;\n",
              "        justify-content: center;\n",
              "        background-color: rgb(255, 255, 255);\n",
              "        color: rgb(51, 103, 214);\n",
              "\n",
              "        font-family: Roboto,\"Helvetica Neue\",sans-serif;\n",
              "        font-size: 13px;\n",
              "        font-weight: 500;\n",
              "        text-transform: uppercase;\n",
              "        text-decoration: none !important;\n",
              "\n",
              "        transition: box-shadow 280ms cubic-bezier(0.4, 0, 0.2, 1) 0s;\n",
              "        box-shadow: 0px 3px 1px -2px rgba(0,0,0,0.2), 0px 2px 2px 0px rgba(0,0,0,0.14), 0px 1px 5px 0px rgba(0,0,0,0.12);\n",
              "      }\n",
              "      .view-vertex-resource:active {\n",
              "        box-shadow: 0px 5px 5px -3px rgba(0,0,0,0.2),0px 8px 10px 1px rgba(0,0,0,0.14),0px 3px 14px 2px rgba(0,0,0,0.12);\n",
              "      }\n",
              "      .view-vertex-resource:active .view-vertex-ripple::before {\n",
              "        position: absolute;\n",
              "        top: 0;\n",
              "        bottom: 0;\n",
              "        left: 0;\n",
              "        right: 0;\n",
              "        border-radius: 4px;\n",
              "        pointer-events: none;\n",
              "\n",
              "        content: '';\n",
              "        background-color: rgb(51, 103, 214);\n",
              "        opacity: 0.12;\n",
              "      }\n",
              "      .view-vertex-icon {\n",
              "        font-size: 18px;\n",
              "      }\n",
              "    </style>\n",
              "  \n",
              "        <a class=\"view-vertex-resource\" id=\"view-vertex-resource-a8ba5d1b-cb21-4b09-bcc3-4089e49cce5a\" href=\"#view-view-vertex-resource-a8ba5d1b-cb21-4b09-bcc3-4089e49cce5a\">\n",
              "          <span class=\"material-icons view-vertex-icon\">tune</span>\n",
              "          <span>View Tuning Job</span>\n",
              "        </a>\n",
              "        \n",
              "        <script>\n",
              "          (function () {\n",
              "            const link = document.getElementById('view-vertex-resource-a8ba5d1b-cb21-4b09-bcc3-4089e49cce5a');\n",
              "            link.addEventListener('click', (e) => {\n",
              "              if (window.google?.colab?.openUrl) {\n",
              "                window.google.colab.openUrl('https://console.cloud.google.com/vertex-ai/generative/language/locations/us-central1/tuning/tuningJob/3231630305152466944?project=69210017139');\n",
              "              } else {\n",
              "                window.open('https://console.cloud.google.com/vertex-ai/generative/language/locations/us-central1/tuning/tuningJob/3231630305152466944?project=69210017139', '_blank');\n",
              "              }\n",
              "              e.stopPropagation();\n",
              "              e.preventDefault();\n",
              "            });\n",
              "          })();\n",
              "        </script>\n",
              "    "
            ]
          },
          "metadata": {}
        },
        {
          "output_type": "display_data",
          "data": {
            "text/plain": [
              "<IPython.core.display.HTML object>"
            ],
            "text/html": [
              "\n",
              "        \n",
              "    <link rel=\"stylesheet\" href=\"https://fonts.googleapis.com/icon?family=Material+Icons\">\n",
              "    <style>\n",
              "      .view-vertex-resource,\n",
              "      .view-vertex-resource:hover,\n",
              "      .view-vertex-resource:visited {\n",
              "        position: relative;\n",
              "        display: inline-flex;\n",
              "        flex-direction: row;\n",
              "        height: 32px;\n",
              "        padding: 0 12px;\n",
              "          margin: 4px 18px;\n",
              "        gap: 4px;\n",
              "        border-radius: 4px;\n",
              "\n",
              "        align-items: center;\n",
              "        justify-content: center;\n",
              "        background-color: rgb(255, 255, 255);\n",
              "        color: rgb(51, 103, 214);\n",
              "\n",
              "        font-family: Roboto,\"Helvetica Neue\",sans-serif;\n",
              "        font-size: 13px;\n",
              "        font-weight: 500;\n",
              "        text-transform: uppercase;\n",
              "        text-decoration: none !important;\n",
              "\n",
              "        transition: box-shadow 280ms cubic-bezier(0.4, 0, 0.2, 1) 0s;\n",
              "        box-shadow: 0px 3px 1px -2px rgba(0,0,0,0.2), 0px 2px 2px 0px rgba(0,0,0,0.14), 0px 1px 5px 0px rgba(0,0,0,0.12);\n",
              "      }\n",
              "      .view-vertex-resource:active {\n",
              "        box-shadow: 0px 5px 5px -3px rgba(0,0,0,0.2),0px 8px 10px 1px rgba(0,0,0,0.14),0px 3px 14px 2px rgba(0,0,0,0.12);\n",
              "      }\n",
              "      .view-vertex-resource:active .view-vertex-ripple::before {\n",
              "        position: absolute;\n",
              "        top: 0;\n",
              "        bottom: 0;\n",
              "        left: 0;\n",
              "        right: 0;\n",
              "        border-radius: 4px;\n",
              "        pointer-events: none;\n",
              "\n",
              "        content: '';\n",
              "        background-color: rgb(51, 103, 214);\n",
              "        opacity: 0.12;\n",
              "      }\n",
              "      .view-vertex-icon {\n",
              "        font-size: 18px;\n",
              "      }\n",
              "    </style>\n",
              "  \n",
              "        <a class=\"view-vertex-resource\" id=\"view-vertex-resource-c96e8a7e-6bcb-4a9a-ba47-357187d5f900\" href=\"#view-view-vertex-resource-c96e8a7e-6bcb-4a9a-ba47-357187d5f900\">\n",
              "          <span class=\"material-icons view-vertex-icon\">science</span>\n",
              "          <span>View Experiment</span>\n",
              "        </a>\n",
              "        \n",
              "        <script>\n",
              "          (function () {\n",
              "            const link = document.getElementById('view-vertex-resource-c96e8a7e-6bcb-4a9a-ba47-357187d5f900');\n",
              "            link.addEventListener('click', (e) => {\n",
              "              if (window.google?.colab?.openUrl) {\n",
              "                window.google.colab.openUrl('https://console.cloud.google.com/vertex-ai/experiments/locations/us-central1/experiments/tuning-experiment-20250513170514903103/runs?project=lyrical-rampart-459603-a8');\n",
              "              } else {\n",
              "                window.open('https://console.cloud.google.com/vertex-ai/experiments/locations/us-central1/experiments/tuning-experiment-20250513170514903103/runs?project=lyrical-rampart-459603-a8', '_blank');\n",
              "              }\n",
              "              e.stopPropagation();\n",
              "              e.preventDefault();\n",
              "            });\n",
              "          })();\n",
              "        </script>\n",
              "    "
            ]
          },
          "metadata": {}
        },
        {
          "output_type": "stream",
          "name": "stdout",
          "text": [
            "model name: projects/69210017139/locations/us-central1/models/1739237179630026752@1\n",
            "endpoint: projects/69210017139/locations/us-central1/endpoints/8848013060783210496\n",
            "experiment: <google.cloud.aiplatform.metadata.experiment_resources.Experiment object at 0x7b29e5d1e3d0>\n",
            "tuning job: <vertexai.tuning._supervised_tuning.SupervisedTuningJob object at 0x7b29e5d1e450> \n",
            "resource name: projects/69210017139/locations/us-central1/tuningJobs/3231630305152466944\n"
          ]
        }
      ]
    },
    {
      "cell_type": "markdown",
      "source": [
        "For Viewing Job lists"
      ],
      "metadata": {
        "id": "DoRFgrP4XH5O"
      }
    },
    {
      "cell_type": "code",
      "source": [
        "!gcloud ai hp-tuning-jobs list --region=us-central1\n",
        "\n"
      ],
      "metadata": {
        "id": "kYXd5Gj4uLKh"
      },
      "execution_count": null,
      "outputs": []
    },
    {
      "cell_type": "markdown",
      "source": [
        "View a list of tuning jobs"
      ],
      "metadata": {
        "id": "9yzZuBgQ4hCG"
      }
    },
    {
      "cell_type": "code",
      "source": [
        "import vertexai\n",
        "from vertexai.tuning import sft\n",
        "\n",
        "vertexai.init(project=PROJECT_ID, location=\"us-central1\")\n",
        "\n",
        "responses = sft.SupervisedTuningJob.list()\n",
        "\n",
        "for response in responses:\n",
        "    print(response)\n",
        "# Example response:\n",
        "# <vertexai.tuning._supervised_tuning.SupervisedTuningJob object at 0x7c85287b2680>\n",
        "# resource name: projects/12345678/locations/us-central1/tuningJobs/123456789012345"
      ],
      "metadata": {
        "id": "xrAr693evRzw"
      },
      "execution_count": null,
      "outputs": []
    },
    {
      "cell_type": "markdown",
      "source": [
        "Get details of a tuning job"
      ],
      "metadata": {
        "id": "IXdAkStn4pix"
      }
    },
    {
      "cell_type": "code",
      "source": [
        "import vertexai\n",
        "from vertexai.tuning import sft\n",
        "\n",
        "LOCATION = \"us-central1\"\n",
        "vertexai.init(project=PROJECT_ID, location=LOCATION)\n",
        "\n",
        "tuning_job_id = \"7223697540862967808\"\n",
        "response = sft.SupervisedTuningJob(f\"projects/{PROJECT_ID}/locations/{LOCATION}/tuningJobs/{tuning_job_id}\")\n",
        "\n",
        "print(response)\n",
        "# Example response:\n",
        "# <vertexai.tuning._supervised_tuning.SupervisedTuningJob object at 0x7cc4bb20baf0>\n",
        "# resource name: projects/1234567890/locations/us-central1/tuningJobs/4982013113894174720"
      ],
      "metadata": {
        "colab": {
          "base_uri": "https://localhost:8080/",
          "height": 112
        },
        "id": "ydVoFOP_RuCJ",
        "outputId": "20c2d4af-02aa-466a-d58a-7640472713c8"
      },
      "execution_count": null,
      "outputs": [
        {
          "output_type": "display_data",
          "data": {
            "text/plain": [
              "<IPython.core.display.HTML object>"
            ],
            "text/html": [
              "\n",
              "        \n",
              "    <link rel=\"stylesheet\" href=\"https://fonts.googleapis.com/icon?family=Material+Icons\">\n",
              "    <style>\n",
              "      .view-vertex-resource,\n",
              "      .view-vertex-resource:hover,\n",
              "      .view-vertex-resource:visited {\n",
              "        position: relative;\n",
              "        display: inline-flex;\n",
              "        flex-direction: row;\n",
              "        height: 32px;\n",
              "        padding: 0 12px;\n",
              "          margin: 4px 18px;\n",
              "        gap: 4px;\n",
              "        border-radius: 4px;\n",
              "\n",
              "        align-items: center;\n",
              "        justify-content: center;\n",
              "        background-color: rgb(255, 255, 255);\n",
              "        color: rgb(51, 103, 214);\n",
              "\n",
              "        font-family: Roboto,\"Helvetica Neue\",sans-serif;\n",
              "        font-size: 13px;\n",
              "        font-weight: 500;\n",
              "        text-transform: uppercase;\n",
              "        text-decoration: none !important;\n",
              "\n",
              "        transition: box-shadow 280ms cubic-bezier(0.4, 0, 0.2, 1) 0s;\n",
              "        box-shadow: 0px 3px 1px -2px rgba(0,0,0,0.2), 0px 2px 2px 0px rgba(0,0,0,0.14), 0px 1px 5px 0px rgba(0,0,0,0.12);\n",
              "      }\n",
              "      .view-vertex-resource:active {\n",
              "        box-shadow: 0px 5px 5px -3px rgba(0,0,0,0.2),0px 8px 10px 1px rgba(0,0,0,0.14),0px 3px 14px 2px rgba(0,0,0,0.12);\n",
              "      }\n",
              "      .view-vertex-resource:active .view-vertex-ripple::before {\n",
              "        position: absolute;\n",
              "        top: 0;\n",
              "        bottom: 0;\n",
              "        left: 0;\n",
              "        right: 0;\n",
              "        border-radius: 4px;\n",
              "        pointer-events: none;\n",
              "\n",
              "        content: '';\n",
              "        background-color: rgb(51, 103, 214);\n",
              "        opacity: 0.12;\n",
              "      }\n",
              "      .view-vertex-icon {\n",
              "        font-size: 18px;\n",
              "      }\n",
              "    </style>\n",
              "  \n",
              "        <a class=\"view-vertex-resource\" id=\"view-vertex-resource-00bd0e3d-0289-4aed-9c90-b214f960b0d6\" href=\"#view-view-vertex-resource-00bd0e3d-0289-4aed-9c90-b214f960b0d6\">\n",
              "          <span class=\"material-icons view-vertex-icon\">tune</span>\n",
              "          <span>View Tuning Job</span>\n",
              "        </a>\n",
              "        \n",
              "        <script>\n",
              "          (function () {\n",
              "            const link = document.getElementById('view-vertex-resource-00bd0e3d-0289-4aed-9c90-b214f960b0d6');\n",
              "            link.addEventListener('click', (e) => {\n",
              "              if (window.google?.colab?.openUrl) {\n",
              "                window.google.colab.openUrl('https://console.cloud.google.com/vertex-ai/generative/language/locations/us-central1/tuning/tuningJob/7223697540862967808?project=69210017139');\n",
              "              } else {\n",
              "                window.open('https://console.cloud.google.com/vertex-ai/generative/language/locations/us-central1/tuning/tuningJob/7223697540862967808?project=69210017139', '_blank');\n",
              "              }\n",
              "              e.stopPropagation();\n",
              "              e.preventDefault();\n",
              "            });\n",
              "          })();\n",
              "        </script>\n",
              "    "
            ]
          },
          "metadata": {}
        },
        {
          "output_type": "stream",
          "name": "stdout",
          "text": [
            "<vertexai.tuning._supervised_tuning.SupervisedTuningJob object at 0x7b29e5df3c10> \n",
            "resource name: projects/69210017139/locations/us-central1/tuningJobs/7223697540862967808\n"
          ]
        }
      ]
    },
    {
      "cell_type": "markdown",
      "source": [
        "Testing AI model with Prompts"
      ],
      "metadata": {
        "id": "hQClEDRk41Ys"
      }
    },
    {
      "cell_type": "code",
      "source": [
        "from vertexai.generative_models import GenerativeModel\n",
        "\n",
        "sft_tuning_job = sft.SupervisedTuningJob(f\"projects/{PROJECT_ID}/locations/{REGION}/tuningJobs/{tuning_job_id}\")\n",
        "tuned_model = GenerativeModel(sft_tuning_job.tuned_model_endpoint_name)\n",
        "\n",
        "content = '''\n",
        "{\n",
        "  \"systemInstruction\": {\n",
        "    \"role\": \"system\",\n",
        "    \"parts\": [\n",
        "        {\n",
        "            \"text\": \"You are a Classifier responsible to classify into CTS,CTS Campus,Classroom Support,Print Team (External).\"\n",
        "        }\n",
        "    ]\n",
        "  },\n",
        "  {\n",
        "    \"contents\": [\n",
        "        {\n",
        "            \"role\": \"USER\",\n",
        "            \"parts\": {\n",
        "                \"text\" : \"Projector in mcnair is not working.\"\n",
        "            },\n",
        "  {\n",
        "    \"contents\": [\n",
        "        {\n",
        "            \"role\": \"USER\",\n",
        "            \"parts\": {\n",
        "                \"text\" : \"\"\n",
        "            }\n",
        "        },\n",
        "    ],\n",
        "    \"generation_config\": {\n",
        "        \"temperature\":0.2\n",
        "    }\n",
        "}\n",
        "'''\n",
        "\n",
        "print(tuned_model.generate_content(content))"
      ],
      "metadata": {
        "colab": {
          "base_uri": "https://localhost:8080/",
          "height": 560
        },
        "id": "fDUfPlYY7LKh",
        "outputId": "9969cd53-95ee-4314-c5a6-f01a1dd90afb"
      },
      "execution_count": null,
      "outputs": [
        {
          "output_type": "display_data",
          "data": {
            "text/plain": [
              "<IPython.core.display.HTML object>"
            ],
            "text/html": [
              "\n",
              "        \n",
              "    <link rel=\"stylesheet\" href=\"https://fonts.googleapis.com/icon?family=Material+Icons\">\n",
              "    <style>\n",
              "      .view-vertex-resource,\n",
              "      .view-vertex-resource:hover,\n",
              "      .view-vertex-resource:visited {\n",
              "        position: relative;\n",
              "        display: inline-flex;\n",
              "        flex-direction: row;\n",
              "        height: 32px;\n",
              "        padding: 0 12px;\n",
              "          margin: 4px 18px;\n",
              "        gap: 4px;\n",
              "        border-radius: 4px;\n",
              "\n",
              "        align-items: center;\n",
              "        justify-content: center;\n",
              "        background-color: rgb(255, 255, 255);\n",
              "        color: rgb(51, 103, 214);\n",
              "\n",
              "        font-family: Roboto,\"Helvetica Neue\",sans-serif;\n",
              "        font-size: 13px;\n",
              "        font-weight: 500;\n",
              "        text-transform: uppercase;\n",
              "        text-decoration: none !important;\n",
              "\n",
              "        transition: box-shadow 280ms cubic-bezier(0.4, 0, 0.2, 1) 0s;\n",
              "        box-shadow: 0px 3px 1px -2px rgba(0,0,0,0.2), 0px 2px 2px 0px rgba(0,0,0,0.14), 0px 1px 5px 0px rgba(0,0,0,0.12);\n",
              "      }\n",
              "      .view-vertex-resource:active {\n",
              "        box-shadow: 0px 5px 5px -3px rgba(0,0,0,0.2),0px 8px 10px 1px rgba(0,0,0,0.14),0px 3px 14px 2px rgba(0,0,0,0.12);\n",
              "      }\n",
              "      .view-vertex-resource:active .view-vertex-ripple::before {\n",
              "        position: absolute;\n",
              "        top: 0;\n",
              "        bottom: 0;\n",
              "        left: 0;\n",
              "        right: 0;\n",
              "        border-radius: 4px;\n",
              "        pointer-events: none;\n",
              "\n",
              "        content: '';\n",
              "        background-color: rgb(51, 103, 214);\n",
              "        opacity: 0.12;\n",
              "      }\n",
              "      .view-vertex-icon {\n",
              "        font-size: 18px;\n",
              "      }\n",
              "    </style>\n",
              "  \n",
              "        <a class=\"view-vertex-resource\" id=\"view-vertex-resource-69530c80-aded-4072-a1d7-0163350d67d2\" href=\"#view-view-vertex-resource-69530c80-aded-4072-a1d7-0163350d67d2\">\n",
              "          <span class=\"material-icons view-vertex-icon\">tune</span>\n",
              "          <span>View Tuning Job</span>\n",
              "        </a>\n",
              "        \n",
              "        <script>\n",
              "          (function () {\n",
              "            const link = document.getElementById('view-vertex-resource-69530c80-aded-4072-a1d7-0163350d67d2');\n",
              "            link.addEventListener('click', (e) => {\n",
              "              if (window.google?.colab?.openUrl) {\n",
              "                window.google.colab.openUrl('https://console.cloud.google.com/vertex-ai/generative/language/locations/us-central1/tuning/tuningJob/7223697540862967808?project=69210017139');\n",
              "              } else {\n",
              "                window.open('https://console.cloud.google.com/vertex-ai/generative/language/locations/us-central1/tuning/tuningJob/7223697540862967808?project=69210017139', '_blank');\n",
              "              }\n",
              "              e.stopPropagation();\n",
              "              e.preventDefault();\n",
              "            });\n",
              "          })();\n",
              "        </script>\n",
              "    "
            ]
          },
          "metadata": {}
        },
        {
          "output_type": "stream",
          "name": "stdout",
          "text": [
            "candidates {\n",
            "  content {\n",
            "    role: \"model\"\n",
            "    parts {\n",
            "      text: \"Classroom Support\"\n",
            "    }\n",
            "  }\n",
            "  finish_reason: STOP\n",
            "  avg_logprobs: -1.0105397701263428\n",
            "}\n",
            "usage_metadata {\n",
            "  prompt_token_count: 172\n",
            "  candidates_token_count: 2\n",
            "  total_token_count: 174\n",
            "  prompt_tokens_details {\n",
            "    modality: TEXT\n",
            "    token_count: 172\n",
            "  }\n",
            "  candidates_tokens_details {\n",
            "    modality: TEXT\n",
            "    token_count: 2\n",
            "  }\n",
            "}\n",
            "create_time {\n",
            "  seconds: 1747182116\n",
            "  nanos: 105198000\n",
            "}\n",
            "response_id: \"JOIjaO61Br6o1dkPioDXiAM\"\n",
            "\n"
          ]
        }
      ]
    }
  ]
}
